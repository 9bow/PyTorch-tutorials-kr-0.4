{
  "metadata": {
    "kernelspec": {
      "name": "python3",
      "language": "python",
      "display_name": "Python 3"
    },
    "language_info": {
      "name": "python",
      "codemirror_mode": {
        "name": "ipython",
        "version": 3
      },
      "nbconvert_exporter": "python",
      "mimetype": "text/x-python",
      "version": "3.5.0",
      "pygments_lexer": "ipython3",
      "file_extension": ".py"
    }
  },
  "cells": [
    {
      "metadata": {
        "collapsed": false
      },
      "outputs": [],
      "source": [
        "%matplotlib inline"
      ],
      "cell_type": "code",
      "execution_count": null
    },
    {
      "metadata": {},
      "source": [
        "\nPyTorch\uac00 \ubb34\uc5c7\uc778\uac00\uc694?\n=====================\n\nPython \uae30\ubc18\uc758 \uacfc\ud559 \uc5f0\uc0b0 \ud328\ud0a4\uc9c0\ub85c \ub2e4\uc74c\uacfc \uac19\uc740 \ub450 \uc9d1\ub2e8\uc744 \ub300\uc0c1\uc73c\ub85c \ud569\ub2c8\ub2e4:\n\n- NumPy\ub97c \ub300\uccb4\ud558\uba74\uc11c GPU\ub97c \uc774\uc6a9\ud55c \uc5f0\uc0b0\uc774 \ud544\uc694\ud55c \uacbd\uc6b0\n- \ucd5c\ub300\ud55c\uc758 \uc720\uc5f0\uc131\uacfc \uc18d\ub3c4\ub97c \uc81c\uacf5\ud558\ub294 \ub525\ub7ec\ub2dd \uc5f0\uad6c \ud50c\ub7ab\ud3fc\uc774 \ud544\uc694\ud55c \uacbd\uc6b0\n\n\uc2dc\uc791\ud558\uae30\n--------\n\nTensors\n^^^^^^^\n\nTensor\ub294 NumPy\uc758 ndarray\uc640 \uc720\uc0ac\ud560 \ubfd0\ub9cc \uc544\ub2c8\ub77c, GPU\ub97c \uc0ac\uc6a9\ud55c \uc5f0\uc0b0 \uac00\uc18d\ub3c4 \uc9c0\uc6d0\ud569\ub2c8\ub2e4.\n\n"
      ],
      "cell_type": "markdown"
    },
    {
      "metadata": {
        "collapsed": false
      },
      "outputs": [],
      "source": [
        "from __future__ import print_function\nimport torch"
      ],
      "cell_type": "code",
      "execution_count": null
    },
    {
      "metadata": {},
      "source": [
        "\ucd08\uae30\ud654\ub418\uc9c0 \uc54a\uc740 5x3 \ud589\ub82c\uc744 \uc0dd\uc131\ud569\ub2c8\ub2e4:\n\n"
      ],
      "cell_type": "markdown"
    },
    {
      "metadata": {
        "collapsed": false
      },
      "outputs": [],
      "source": [
        "x = torch.empty(5, 3)\nprint(x)"
      ],
      "cell_type": "code",
      "execution_count": null
    },
    {
      "metadata": {},
      "source": [
        "\ubb34\uc791\uc704\ub85c \ucd08\uae30\ud654\ub41c \ud589\ub82c\uc744 \uc0dd\uc131\ud569\ub2c8\ub2e4:\n\n"
      ],
      "cell_type": "markdown"
    },
    {
      "metadata": {
        "collapsed": false
      },
      "outputs": [],
      "source": [
        "x = torch.rand(5, 3)\nprint(x)"
      ],
      "cell_type": "code",
      "execution_count": null
    },
    {
      "metadata": {},
      "source": [
        "dtype\uc774 long\uc774\uace0 0\uc73c\ub85c \ucc44\uc6cc\uc9c4 \ud589\ub82c\uc744 \uc0dd\uc131\ud569\ub2c8\ub2e4:\n\n"
      ],
      "cell_type": "markdown"
    },
    {
      "metadata": {
        "collapsed": false
      },
      "outputs": [],
      "source": [
        "x = torch.zeros(5, 3, dtype=torch.long)\nprint(x)"
      ],
      "cell_type": "code",
      "execution_count": null
    },
    {
      "metadata": {},
      "source": [
        "\ub370\uc774\ud130\ub85c\ubd80\ud130 \ubc14\ub85c tensor\ub97c \uc0dd\uc131\ud569\ub2c8\ub2e4:\n\n"
      ],
      "cell_type": "markdown"
    },
    {
      "metadata": {
        "collapsed": false
      },
      "outputs": [],
      "source": [
        "x = torch.tensor([5.5, 3])\nprint(x)"
      ],
      "cell_type": "code",
      "execution_count": null
    },
    {
      "metadata": {},
      "source": [
        "\ub610\ub294, \uc874\uc7ac\ud558\ub294 tensor\ub97c \ubc14\ud0d5\uc73c\ub85c tensor\ub97c \ub9cc\ub4ed\ub2c8\ub2e4. \uc774 \uba54\uc18c\ub4dc(method)\ub4e4\uc740\ndtype\uacfc \uac19\uc774 \uc0ac\uc6a9\uc790\ub85c\ubd80\ud130 \uc81c\uacf5\ub41c \uc0c8\ub85c\uc6b4 \uac12\uc774 \uc5c6\ub294 \ud55c \uc785\ub825 tensor\uc758 \uc18d\uc131\uc744\n\uc7ac\uc0ac\uc6a9\ud569\ub2c8\ub2e4.\n\n"
      ],
      "cell_type": "markdown"
    },
    {
      "metadata": {
        "collapsed": false
      },
      "outputs": [],
      "source": [
        "x = x.new_ones(5, 3, dtype=torch.double)      # new_* methods take in sizes\nprint(x)\n\nx = torch.randn_like(x, dtype=torch.float)    # override dtype!\nprint(x)                                      # result has the same size"
      ],
      "cell_type": "code",
      "execution_count": null
    },
    {
      "metadata": {},
      "source": [
        "\ud589\ub82c\uc758 \ud06c\uae30\ub97c \uad6c\ud569\ub2c8\ub2e4:\n\n"
      ],
      "cell_type": "markdown"
    },
    {
      "metadata": {
        "collapsed": false
      },
      "outputs": [],
      "source": [
        "print(x.size())"
      ],
      "cell_type": "code",
      "execution_count": null
    },
    {
      "metadata": {},
      "source": [
        "<div class=\"alert alert-info\"><h4>Note</h4><p>``torch.Size`` \ub294 \ud29c\ud50c(tuple)\uacfc \uac19\uc73c\uba70, \ubaa8\ub4e0 \ud29c\ud50c \uc5f0\uc0b0\uc5d0 \uc0ac\uc6a9\ud560 \uc218 \uc788\uc2b5\ub2c8\ub2e4.</p></div>\n\n\uc5f0\uc0b0(Operations)\n^^^^^^^^^^^^^^^^\n\uc5f0\uc0b0\uc744 \uc704\ud55c \uc5ec\ub7ec\uac00\uc9c0 \ubb38\ubc95\uc744 \uc81c\uacf5\ud569\ub2c8\ub2e4. \ub2e4\uc74c \uc608\uc81c\ub4e4\uc744 \ud1b5\ud574 \ub367\uc148 \uc5f0\uc0b0\uc744 \uc0b4\ud3b4\ubcf4\uaca0\uc2b5\ub2c8\ub2e4.\n\n\ub367\uc148: \ubb38\ubc951\n\n"
      ],
      "cell_type": "markdown"
    },
    {
      "metadata": {
        "collapsed": false
      },
      "outputs": [],
      "source": [
        "y = torch.rand(5, 3)\nprint(x + y)"
      ],
      "cell_type": "code",
      "execution_count": null
    },
    {
      "metadata": {},
      "source": [
        "\ub367\uc148: \ubb38\ubc952\n\n"
      ],
      "cell_type": "markdown"
    },
    {
      "metadata": {
        "collapsed": false
      },
      "outputs": [],
      "source": [
        "print(torch.add(x, y))"
      ],
      "cell_type": "code",
      "execution_count": null
    },
    {
      "metadata": {},
      "source": [
        "\ub367\uc148: \uacb0\uacfc tensor\ub97c \uc778\uc790\ub85c \uc81c\uacf5\n\n"
      ],
      "cell_type": "markdown"
    },
    {
      "metadata": {
        "collapsed": false
      },
      "outputs": [],
      "source": [
        "result = torch.empty(5, 3)\ntorch.add(x, y, out=result)\nprint(result)"
      ],
      "cell_type": "code",
      "execution_count": null
    },
    {
      "metadata": {},
      "source": [
        "\ub367\uc148: \ubc14\uafd4\uce58\uae30(In-place) \ubc29\uc2dd\n\n"
      ],
      "cell_type": "markdown"
    },
    {
      "metadata": {
        "collapsed": false
      },
      "outputs": [],
      "source": [
        "# y\uc5d0 x \ub354\ud558\uae30\ny.add_(x)\nprint(y)"
      ],
      "cell_type": "code",
      "execution_count": null
    },
    {
      "metadata": {},
      "source": [
        "<div class=\"alert alert-info\"><h4>Note</h4><p>\ubc14\uafd4\uce58\uae30(In-place) \ubc29\uc2dd\uc73c\ub85c tensor\uc758 \uac12\uc744 \ubcc0\uacbd\ud558\ub294 \uc5f0\uc0b0\uc740 ``_`` \ub97c \uc811\ubbf8\uc0ac\ub85c\n    \uac16\uc2b5\ub2c8\ub2e4.\n    \uc608: ``x.copy_(y)``, ``x.t_()`` \ub294 ``x`` \ub97c \ubcc0\uacbd\ud569\ub2c8\ub2e4.</p></div>\n\nNumPy\uc758 \uc778\ub371\uc2f1 \ud45c\uae30 \ubc29\ubc95\uc744 \uc0ac\uc6a9\ud560 \uc218\ub3c4 \uc788\uc2b5\ub2c8\ub2e4!\n\n"
      ],
      "cell_type": "markdown"
    },
    {
      "metadata": {
        "collapsed": false
      },
      "outputs": [],
      "source": [
        "print(x[:, 1])"
      ],
      "cell_type": "code",
      "execution_count": null
    },
    {
      "metadata": {},
      "source": [
        "\ud06c\uae30 \ubcc0\uacbd: tensor\uc758 \ud06c\uae30(size)\ub098 \ubaa8\uc591(shape)\uc744 \ubcc0\uacbd\ud558\uace0 \uc2f6\uc744 \ub54c, ``torch.view`` \ub97c \uc0ac\uc6a9\ud569\ub2c8\ub2e4.\n\n"
      ],
      "cell_type": "markdown"
    },
    {
      "metadata": {
        "collapsed": false
      },
      "outputs": [],
      "source": [
        "x = torch.randn(4, 4)\ny = x.view(16)\nz = x.view(-1, 8)  # \uc0ac\uc774\uc988\uac00 -1\uc778 \uacbd\uc6b0 \ub2e4\ub978 \ucc28\uc6d0\ub4e4\uc744 \uc0ac\uc6a9\ud558\uc5ec \uc720\ucd94\ud569\ub2c8\ub2e4.\nprint(x.size(), y.size(), z.size())"
      ],
      "cell_type": "code",
      "execution_count": null
    },
    {
      "metadata": {},
      "source": [
        "\ub9cc\uc57d tensor\uc5d0 \ud558\ub098\uc758 \uac12\ub9cc \uc874\uc7ac\ud55c\ub2e4\uba74, ``.item()`` \uc744 \uc0ac\uc6a9\ud558\uba74 \uc22b\uc790 \uac12\uc744 \uc5bb\uc744 \uc218 \uc788\uc2b5\ub2c8\ub2e4.\n\n"
      ],
      "cell_type": "markdown"
    },
    {
      "metadata": {
        "collapsed": false
      },
      "outputs": [],
      "source": [
        "x = torch.randn(1)\nprint(x)\nprint(x.item())"
      ],
      "cell_type": "code",
      "execution_count": null
    },
    {
      "metadata": {},
      "source": [
        "**\ub354 \uc77d\uc744\uac70\ub9ac:**\n\n\n  \uc804\uce58(transposing), \uc778\ub371\uc2f1(indexing), \uc2ac\ub77c\uc774\uc2f1(slicing), \uc218\ud559 \uacc4\uc0b0,\n  \uc120\ud615 \ub300\uc218, \ub09c\uc218(random number) \ub4f1\uacfc \uac19\uc740 100\uac00\uc9c0 \uc774\uc0c1\uc758 Tensor \uc5f0\uc0b0\uc740\n  `\uc5ec\uae30 <http://pytorch.org/docs/torch>`_ \uc5d0 \uc124\uba85\ub418\uc5b4 \uc788\uc2b5\ub2c8\ub2e4.\n\nNumPy \ubcc0\ud658(Bridge)\n------------------\n\nTorch Tensor\ub97c NumPy \ubc30\uc5f4(array)\ub85c \ubcc0\ud658\ud558\uac70\ub098, \uadf8 \ubc18\ub300\ub85c \ud558\ub294 \uac83\uc740 \ub9e4\uc6b0 \uc27d\uc2b5\ub2c8\ub2e4.\n\nTorch Tensor\uc640 NumPy \ubc30\uc5f4\uc740 \uc800\uc7a5 \uacf5\uac04\uc744 \uacf5\uc720\ud558\uae30 \ub54c\ubb38\uc5d0, \ud558\ub098\ub97c \ubcc0\uacbd\ud558\uba74 \ub2e4\ub978 \ud558\ub098\ub3c4\n\ubcc0\uacbd\ub429\ub2c8\ub2e4.\n\nTorch Tensor\ub97c NumPy \ubc30\uc5f4\ub85c \ubcc0\ud658\ud558\uae30\n^^^^^^^^^^^^^^^^^^^^^^^^^^^^^^^^^^^^^^^^^^\n\n"
      ],
      "cell_type": "markdown"
    },
    {
      "metadata": {
        "collapsed": false
      },
      "outputs": [],
      "source": [
        "a = torch.ones(5)\nprint(a)"
      ],
      "cell_type": "code",
      "execution_count": null
    },
    {
      "metadata": {
        "collapsed": false
      },
      "outputs": [],
      "source": [
        "b = a.numpy()\nprint(b)"
      ],
      "cell_type": "code",
      "execution_count": null
    },
    {
      "metadata": {},
      "source": [
        "NumPy \ubc30\uc5f4\uc758 \uac12\uc774 \uc5b4\ub5bb\uac8c \ubcc0\ud558\ub294\uc9c0 \ud655\uc778\ud574\ubcf4\uc138\uc694.\n\n"
      ],
      "cell_type": "markdown"
    },
    {
      "metadata": {
        "collapsed": false
      },
      "outputs": [],
      "source": [
        "a.add_(1)\nprint(a)\nprint(b)"
      ],
      "cell_type": "code",
      "execution_count": null
    },
    {
      "metadata": {},
      "source": [
        "NumPy \ubc30\uc5f4\uc744 Torch Tensor\ub85c \ubcc0\ud658\ud558\uae30\n^^^^^^^^^^^^^^^^^^^^^^^^^^^^^^^^^^^^^^\nNumPy(np) \ubc30\uc5f4\uc744 \ubcc0\uacbd\ud558\uba74 Torch Tensor\uc758 \uac12\ub3c4 \uc790\ub3d9 \ubcc0\uacbd\ub418\ub294 \uac83\uc744 \ud655\uc778\ud574\ubcf4\uc138\uc694.\n\n"
      ],
      "cell_type": "markdown"
    },
    {
      "metadata": {
        "collapsed": false
      },
      "outputs": [],
      "source": [
        "import numpy as np\na = np.ones(5)\nb = torch.from_numpy(a)\nnp.add(a, 1, out=a)\nprint(a)\nprint(b)"
      ],
      "cell_type": "code",
      "execution_count": null
    },
    {
      "metadata": {},
      "source": [
        "CharTensor\ub97c \uc81c\uc678\ud55c CPU \uc0c1\uc758 \ubaa8\ub4e0 Tensor\ub294 NumPy\ub85c\uc758 \ubcc0\ud658\uc744 \uc9c0\uc6d0\ud558\uba70,\n(NumPy\uc5d0\uc11c Tensor\ub85c\uc758) \ubc18\ub300 \ubcc0\ud658\ub3c4 \uc9c0\uc6d0\ud569\ub2c8\ub2e4.\n\nCUDA Tensors\n------------\n\n``.to`` \uba54\uc18c\ub4dc\ub97c \uc0ac\uc6a9\ud558\uc5ec Tensor\ub97c \uc5b4\ub5a0\ud55c \uc7a5\uce58\ub85c\ub3c4 \uc62e\uae38 \uc218 \uc788\uc2b5\ub2c8\ub2e4.\n\n"
      ],
      "cell_type": "markdown"
    },
    {
      "metadata": {
        "collapsed": false
      },
      "outputs": [],
      "source": [
        "# \uc774 \ucf54\ub4dc\ub294 CUDA\uac00 \uc0ac\uc6a9 \uac00\ub2a5\ud55c \ud658\uacbd\uc5d0\uc11c\ub9cc \uc2e4\ud589\ud569\ub2c8\ub2e4.\n# ``torch.device`` \ub97c \uc0ac\uc6a9\ud558\uc5ec tensor\ub97c GPU \uc548\ud30e\uc73c\ub85c \uc774\ub3d9\ud574\ubcf4\uaca0\uc2b5\ub2c8\ub2e4.\nif torch.cuda.is_available():\n    device = torch.device(\"cuda\")          # CUDA \uc7a5\uce58 \uac1d\uccb4(Device Object)\ub85c\n    y = torch.ones_like(x, device=device)  # GPU \uc0c1\uc5d0 \ubc14\ub85c(directly) tensor\ub97c \uc0dd\uc131\ud558\uac70\ub098\n    x = x.to(device)                       # \ub2e8\uc9c0 ``.to(\"cuda\")`` \ub77c\uace0\ub9cc \uc791\uc131\ud558\uba74 \ub429\ub2c8\ub2e4.\n    z = x + y\n    print(z)\n    print(z.to(\"cpu\", torch.double))       # ``.to`` \ub294 dtype\ub3c4 \ud568\uaed8 \ubcc0\uacbd\ud569\ub2c8\ub2e4!"
      ],
      "cell_type": "code",
      "execution_count": null
    }
  ],
  "nbformat_minor": 0,
  "nbformat": 4
}