{
  "metadata": {
    "kernelspec": {
      "name": "python3",
      "language": "python",
      "display_name": "Python 3"
    },
    "language_info": {
      "name": "python",
      "codemirror_mode": {
        "name": "ipython",
        "version": 3
      },
      "nbconvert_exporter": "python",
      "mimetype": "text/x-python",
      "version": "3.5.0",
      "pygments_lexer": "ipython3",
      "file_extension": ".py"
    }
  },
  "cells": [
    {
      "metadata": {
        "collapsed": false
      },
      "outputs": [],
      "source": [
        "%matplotlib inline"
      ],
      "cell_type": "code",
      "execution_count": null
    },
    {
      "metadata": {},
      "source": [
        "\nPyTorch \uc18c\uac1c\n***********************\n\nTorch\uc758 \ud150\uc11c(Tensor) \ub77c\uc774\ube0c\ub7ec\ub9ac \uc18c\uac1c\n======================================\n\n\ubaa8\ub4e0 \ub525\ub7ec\ub2dd\uc740 2\ucc28\uc6d0 \uc774\uc0c1\uc73c\ub85c \uc0c9\uc778\ub420 \uc218 \uc788\ub294 \ud589\ub82c\uc758 \uc77c\ubc18\ud654\uc778\n\ud150\uc11c\uc758 \uc5f0\uc0b0\uc785\ub2c8\ub2e4. \uc774\uac83\uc774 \ubb34\uc5c7\uc744 \uc758\ubbf8\ud558\uc9c0 \ub098\uc911\uc5d0 \uc815\ud655\ud788\n\uc54c\uac8c \ub420 \uac83\uc785\ub2c8\ub2e4. \uba3c\uc800, \ud150\uc11c\ub85c \ubb34\uc5c7\uc744 \ud560 \uc218 \uc788\ub294\uc9c0 \uc0b4\ud3b4 \ubd05\uc2dc\ub2e4.\n\n"
      ],
      "cell_type": "markdown"
    },
    {
      "metadata": {
        "collapsed": false
      },
      "outputs": [],
      "source": [
        "# Author: Robert Guthrie\n\nimport torch\nimport torch.autograd as autograd\nimport torch.nn as nn\nimport torch.nn.functional as F\nimport torch.optim as optim\n\ntorch.manual_seed(1)"
      ],
      "cell_type": "code",
      "execution_count": null
    },
    {
      "metadata": {},
      "source": [
        "\ud150\uc11c \uc0dd\uc131\ud558\uae30\n~~~~~~~~~~~~~~~~\n\n\ud150\uc11c\ub294 \ud30c\uc774\uc36c \ub9ac\uc2a4\ud2b8\uc5d0\uc11c torch.Tensor() \ud568\uc218\ub85c \uc0dd\uc131\ub420 \uc218 \uc788\uc2b5\ub2c8\ub2e4.\n\n\n"
      ],
      "cell_type": "markdown"
    },
    {
      "metadata": {
        "collapsed": false
      },
      "outputs": [],
      "source": [
        "# torch.tensor(data) \ub294 \uc8fc\uc5b4\uc9c4 \ub370\uc774\ud130\ub85c torch.Tensor \uac1d\uccb4\ub97c \uc0dd\uc131\ud569\ub2c8\ub2e4.\nV_data = [1., 2., 3.]\nV = torch.tensor(V_data)\nprint(V)\n\n# \ud589\ub82c \uc0dd\uc131\nM_data = [[1., 2., 3.], [4., 5., 6]]\nM = torch.tensor(M_data)\nprint(M)\n\n# 2x2x2 \ud06c\uae30\uc758 3D \ud150\uc11c \uc0dd\uc131.\nT_data = [[[1., 2.], [3., 4.]],\n          [[5., 6.], [7., 8.]]]\nT = torch.tensor(T_data)\nprint(T)"
      ],
      "cell_type": "code",
      "execution_count": null
    },
    {
      "metadata": {},
      "source": [
        "\uc5b4\uca0c\ub4e0 3D \ud150\uc11c\uac00 \ubb34\uc5c7\uc785\ub2c8\uae4c? \uc774\ub807\uac8c \uc0dd\uac01\ud574 \ubcf4\uc2ed\uc2dc\uc624. \ub9cc\uc57d \ubca1\ud130\uac00 \uc788\ub2e4\uba74\n\ubca1\ud130\uc5d0 \uc8fc\uc18c\ub97c \uc785\ub825\ud558\uba74 \uc2a4\uce7c\ub77c\ub97c \uc90d\ub2c8\ub2e4. \ub9cc\uc57d \ud589\ub82c\uc744 \uac00\uc9c0\uace0 \uc788\ub2e4\uba74 \ud589\ub82c\uc5d0\n\uc8fc\uc18c\ub97c \uc785\ub825\ud558\uba74 \ubca1\ud130\ub97c \uc90d\ub2c8\ub2e4. \ub9cc\uc57d 3D \ud150\uc11c\ub97c \uac00\uc9c0\uace0 \uc788\ub2e4\uba74 \ud150\uc11c\uc5d0 \uc8fc\uc18c\ub97c\n\uc785\ub825\ud558\uba74 \ud589\ub82c\uc744 \uc90d\ub2c8\ub2e4.\n\n\uc6a9\uc5b4\uc5d0 \ub300\ud55c \uc8fc\uc11d:\n\uc774 \ud29c\ud1a0\ub9ac\uc5bc\uc5d0\uc11c \"\ud150\uc11c\"\ub97c \uc5b8\uae09 \ud560 \ub54c \uadf8\uac83\uc740 \uc5b4\ub5a4 torch.Tensor \uac1d\uccb4\ub97c \ub9d0\ud569\ub2c8\ub2e4.\n\ud589\ub82c\uacfc \ubca1\ud130\ub294 \uac01\uac01 \ucc28\uc6d0\uc774 1\uacfc 2\uc778 torch.Tensors \uc758 \ud2b9\ubcc4\ud55c \ucf00\uc774\uc2a4 \uc785\ub2c8\ub2e4.\n3D \ud150\uc11c\ub97c \ub9d0\ud560 \ub54c\ub294 \"3D \ud150\uc11c\"\ub77c\uace0 \uba85\uc2dc\uc801\uc73c\ub85c \uc0ac\uc6a9\ud558\uaca0\uc2b5\ub2c8\ub2e4.\n\n\n"
      ],
      "cell_type": "markdown"
    },
    {
      "metadata": {
        "collapsed": false
      },
      "outputs": [],
      "source": [
        "# Index into V and get a scalar (0 dimensional tensor)\nprint(V[0])\n# Get a Python number from it\nprint(V[0].item())\n\n# Index into M and get a vector\nprint(M[0])\n\n# Index into T and get a matrix\nprint(T[0])"
      ],
      "cell_type": "code",
      "execution_count": null
    },
    {
      "metadata": {},
      "source": [
        "\ub2e4\ub978 \ub370\uc774\ud130 \uc720\ud615\uc758 \ud150\uc11c\ub97c \uc0dd\uc131 \ud560 \uc218\ub3c4 \uc788\uc2b5\ub2c8\ub2e4. \ubcf4\uc2dc\ub2e4\uc2dc\ud53c \uae30\ubcf8\uac12\uc740\nFloat\uc785\ub2c8\ub2e4. \uc815\uc218\ud615\uc758 \ud150\uc11c\ub97c \ub9cc\ub4e4\ub824\uba74 torch.LongTensor ()\ub97c \uc0ac\uc6a9\ud558\uc2ed\uc2dc\uc624.\n\ub354 \ub9ce\uc740 \ub370\uc774\ud130 \uc720\ud615\uc5d0 \ub300\ud574\uc11c\ub294 \uc124\uba85\uc11c\ub97c \ud655\uc778\ud558\uc2ed\uc2dc\uc624.\n\uadf8\ub7ec\ub098 Float \ubc0f Long\uc774 \uac00\uc7a5 \uc77c\ubc18\uc801\uc785\ub2c8\ub2e4.\n\n\n"
      ],
      "cell_type": "markdown"
    },
    {
      "metadata": {},
      "source": [
        "torch.randn ()\uc744 \uc0ac\uc6a9\ud558\uc5ec \ub79c\ub364 \ub370\uc774\ud130\uc640 \uc81c\uacf5\ub41c \ucc28\uc6d0\uc73c\ub85c \ud150\uc11c\ub97c\n\ub9cc\ub4e4 \uc218 \uc788\uc2b5\ub2c8\ub2e4.\n\n\n"
      ],
      "cell_type": "markdown"
    },
    {
      "metadata": {
        "collapsed": false
      },
      "outputs": [],
      "source": [
        "x = torch.randn((3, 4, 5))\nprint(x)"
      ],
      "cell_type": "code",
      "execution_count": null
    },
    {
      "metadata": {},
      "source": [
        "\ud150\uc11c\ub85c \uc791\uc5c5\ud558\uae30\n~~~~~~~~~~~~~~~~~~~~~~~\n\n\uae30\ub300\ud558\ub294 \ubc29\uc2dd\uc73c\ub85c \ud150\uc11c\ub85c \uc791\uc5c5\ud560 \uc218 \uc788\uc2b5\ub2c8\ub2e4.\n\n"
      ],
      "cell_type": "markdown"
    },
    {
      "metadata": {
        "collapsed": false
      },
      "outputs": [],
      "source": [
        "x = torch.tensor([1., 2., 3.])\ny = torch.tensor([4., 5., 6.])\nz = x + y\nprint(z)"
      ],
      "cell_type": "code",
      "execution_count": null
    },
    {
      "metadata": {},
      "source": [
        "\uc0ac\uc6a9 \uac00\ub2a5\ud55c \ubc29\ub300\ud55c \uc791\uc5c5\uc758 \uc804\uccb4 \ubaa9\ub85d\uc740\n`\ubb38\uc11c <http://pytorch.org/docs/torch.html>`__ \ub97c \ucc38\uace0\ud558\uc2ed\uc2dc\uc624. \ub2e8\uc21c\ud55c\n\uc218\ud559\uc801 \uc5f0\uc0b0 \uc774\uc0c1\uc73c\ub85c \ud655\uc7a5\ub429\ub2c8\ub2e4.\n\n\ub098\uc911\uc5d0 \uc0ac\uc6a9\ud558\uac8c \ub420 \uc720\uc6a9\ud55c \uc791\uc5c5 \uc911 \ud558\ub098\ub294 \uc5f0\uacb0\uc785\ub2c8\ub2e4.\n\n\n"
      ],
      "cell_type": "markdown"
    },
    {
      "metadata": {
        "collapsed": false
      },
      "outputs": [],
      "source": [
        "# \uae30\ubcf8\uc73c\ub85c \uccab\ubc88\uc9f8 \ucd95(\uac00\ub85c \uc5f0\uacb0)\uc744 \ub530\ub77c \uc5f0\uacb0\ud569\ub2c8\ub2e4.\nx_1 = torch.randn(2, 5)\ny_1 = torch.randn(3, 5)\nz_1 = torch.cat([x_1, y_1])\nprint(z_1)\n\n# \uc138\ub85c \uc5f0\uacb0:\nx_2 = torch.randn(2, 3)\ny_2 = torch.randn(2, 5)\n# \ub450\ubc88\uc9f8 \ubcc0\uc218\ub294 \uc5f0\uacb0\ub420 \ucd95\uc744 \uacb0\uc815\ud569\ub2c8\ub2e4.\nz_2 = torch.cat([x_2, y_2], 1)\nprint(z_2)\n\n# \ud150\uc11c\uac00 \ud638\ud658\ub418\uc9c0 \uc54a\uc73c\uba74 Torch\uac00 \uc624\ub958 \uba54\uc2dc\uc9c0\ub97c \ucd9c\ub825 \ud569\ub2c8\ub2e4. \uc8fc\uc11d \ucc98\ub9ac\ub97c \uc81c\uac70\ud558\uc5ec \uc624\ub958\ub97c \ud655\uc778\ud558\uc2ed\uc2dc\uc624.\n# torch.cat([x_1, x_2])"
      ],
      "cell_type": "code",
      "execution_count": null
    },
    {
      "metadata": {},
      "source": [
        "\ud150\uc11c \uc7ac\uad6c\uc131\n~~~~~~~~~~~~~~~~~\n\n.view() \uba54\uc11c\ub4dc\ub97c \uc0ac\uc6a9\ud574\uc11c \ud150\uc11c\ub97c \uc7ac\uad6c\uc131\ud569\ub2c8\ub2e4.\n\uc774 \uba54\uc11c\ub4dc\ub294 \ub9ce\uc740 \uc2e0\uacbd\ub9dd \uad6c\uc131 \uc694\uc18c\uac00 \uc785\ub825\uc744 \ud2b9\uc815 \ubaa8\uc591\uc73c\ub85c \uc608\uc0c1\ud558\uae30\n\ub54c\ubb38\uc5d0 \ub9ce\uc774 \uc0ac\uc6a9\ub429\ub2c8\ub2e4. \ub370\uc774\ud130\ub97c \uad6c\uc131 \uc694\uc18c\ub85c \uc804\ub2ec\ud558\uae30 \uc804\uc5d0 \uc885\uc885 \ubaa8\uc591\uc744\n\ubcc0\uacbd\ud574\uc57c\ud569\ub2c8\ub2e4.\n\n\n"
      ],
      "cell_type": "markdown"
    },
    {
      "metadata": {
        "collapsed": false
      },
      "outputs": [],
      "source": [
        "x = torch.randn(2, 3, 4)\nprint(x)\nprint(x.view(2, 12))  # \uac00\ub85c 2 , \uc138\ub85c 12\ub85c \uc7ac\uad6c\uc131\n# \uc704\uc640 \uac19\uc774 \ud558\ub098\uc758 \ucc28\uc6d0\uc774 -1\uc774\uba74 \uadf8 \uac83\uc758 \ud06c\uae30\ub294 \uc720\ucd94\ub420 \uc218 \uc788\uc2b5\ub2c8\ub2e4.\nprint(x.view(2, -1))"
      ],
      "cell_type": "code",
      "execution_count": null
    },
    {
      "metadata": {},
      "source": [
        "\uc5f0\uc0b0 \uadf8\ub798\ud504(Computation Graph)\uc640 \uc790\ub3d9 \ubbf8\ubd84(Automatic Differentiation)\n=======================================================================\n\n\uc5f0\uc0b0 \uadf8\ub798\ud504\uc758 \uac1c\ub150\uc740 \uc5ed\uc804\ud30c \uadf8\ub77c\ub514\uc5b8\ud2b8\ub97c \uc9c1\uc811 \uc791\uc131\ud560 \ud544\uc694\uac00 \uc5c6\uac8c \ud574\uc8fc\uae30 \ub54c\ubb38\uc5d0\n\ud6a8\uc728\uc801\uc778 \ub525\ub7ec\ub2dd \ud504\ub85c\uadf8\ub798\ubc0d\uc5d0 \ud544\uc218\uc801\uc785\ub2c8\ub2e4.\n\uc5f0\uc0b0 \uadf8\ub798\ud504\ub294 \ub370\uc774\ud130\ub97c \uacb0\ud569\ud558\uc5ec \ucd9c\ub825\uc744 \uc81c\uacf5\ud558\ub294 \ubc29\ubc95\uc758 \uac04\ub2e8\ud55c \ud2b9\uc9d5\uc785\ub2c8\ub2e4.\n\uadf8\ub798\ud504\ub294 \uc5b4\ub5a4 \uc5f0\uc0b0\uacfc \uc5b4\ub5a4 \ub9e4\uac1c \ubcc0\uc218\uac00 \uc5f0\uad00\ub418\ub294\uc9c0\ub97c \uc644\uc804\ud558\uac8c \ud2b9\uc815\ud558\uae30 \ub54c\ubb38\uc5d0\n\ub3c4\ud568\uc218(derivative)\ub97c \uacc4\uc0b0\ud558\uae30\uc5d0 \ucda9\ubd84\ud55c \uc815\ubcf4\ub97c \ud3ec\ud568\ud569\ub2c8\ub2e4.\n\uc544\ub9c8 \ubaa8\ud638\ud558\uac8c \ub4e4\ub9b4\uc9c0\ub3c4 \ubaa8\ub974\ub2c8, \uadfc\ubcf8\uc801\uc778 \ud50c\ub798\uadf8``requires_grad`` \ub97c \uc0ac\uc6a9\ud558\ub294\ub370\n\uc5b4\ub5a4 \uc77c\uc774 \uc77c\uc5b4\ub098\ub294\uc9c0 \uc0b4\ud3b4\ubd05\uc2dc\ub2e4.\n\n\uba3c\uc800 \ud504\ub85c\uadf8\ub798\uba38 \uad00\uc810\uc5d0\uc11c \uc0dd\uac01\ud574 \ubcf4\uc138\uc694.\ntorch \uc5d0 \ubb34\uc5c7\uc774 \uc800\uc7a5\ub418\uc788\ub098\uc694.\n\uc704\uc5d0\uc11c \uc0dd\uc131\ud55c \ud150\uc11c\uc758 \uac1d\uccb4\ub294 \ubb34\uc5c7\uc785\ub2c8\uae4c? \ubd84\uba85\ud788 \ub370\uc774\ud130\uc640 \ud615\ud0dc, \uadf8\ub9ac\uace0\n\uc544\ub9c8 \uba87\uba87 \ub2e4\ub978 \uac83\ub4e4 \uc785\ub2c8\ub2e4. \uadf8\ub7ec\ub098 \uc6b0\ub9ac\uac00 \ub450\uac1c\uc758 \ud150\uc11c\ub97c \ub354\ud560 \ub54c\n\ucd9c\ub825 \ud150\uc11c\ub97c \uc5bb\uc2b5\ub2c8\ub2e4. \uc774 \ubaa8\ub4e0 \ucd9c\ub825 \ud150\uc11c\ub294 \uadf8\uac83\uc758 \ub370\uc774\ud130\uc640 \ud615\ud0dc\ub97c \uc54c\uace0 \uc788\uc2b5\ub2c8\ub2e4.\n\ud558\uc9c0\ub9cc \uadf8\uac83\uc774 \ub450 \ud150\uc11c\uc758 \ud569\uc774 \uc5c8\ub294\uc9c0\ub294 \uc54c\uc9c0 \ubabb\ud569\ub2c8\ub2e4.(\ud30c\uc77c\uc5d0\uc11c \uc77d\uc5c8\uc744 \uc218\ub3c4\n\uc788\uace0 \ub2e4\ub978 \uc5f0\uc0b0\uc758 \uacb0\uacfc\uc77c \uc218\ub3c4 \uc788\uc74c)\n\n\ub9cc\uc77c ``requires_grad=True`` \ub77c\uba74, \ud150\uc11c \uac1d\uccb4\ub294 \uac83\uc774 \uc5b4\ub5bb\uac8c \uc0dd\uc131\ub418\uc5c8\ub294\uc9c0 \ucd94\uc801\ud569\ub2c8\ub2e4.\n\uc2e4\uc81c\ub85c \uadf8\uac83\uc744 \ud655\uc778\ud574 \ubd05\uc2dc\ub2e4.\n\n\n"
      ],
      "cell_type": "markdown"
    },
    {
      "metadata": {
        "collapsed": false
      },
      "outputs": [],
      "source": [
        "# \ud150\uc11c \uacf5\uc7a5 \uba54\uc18c\ub4dc\uc5d0 ``requires_grad`` \ud50c\ub798\uadf8\uac00 \uc788\uc2b5\ub2c8\ub2e4.\nx = torch.tensor([1., 2., 3], requires_grad=True)\n\n# requires_grad=True \uc73c\ub85c \uc774\uc804\uc5d0 \uc788\uc5c8\ub358 \ubaa8\ub4e0 \uc791\uc5c5\uc744 \uc5ec\uc804\ud788 \ud560 \uc218 \uc788\uc2b5\ub2c8\ub2e4.\ny = torch.tensor([4., 5., 6], requires_grad=True)\nz = x + y\nprint(z)\n\n# \uadf8\ub7ec\ub098 z \ub294 \uba87\uac00\uc9c0\ub97c \ucd94\uac00\ub85c \uc54c\uace0 \uc788\uc2b5\ub2c8\ub2e4.\nprint(z.grad_fn)"
      ],
      "cell_type": "code",
      "execution_count": null
    },
    {
      "metadata": {},
      "source": [
        "\uadf8\ub798\uc11c \ud150\uc11c\ub294 \ubb34\uc5c7\uc774 \uadf8\ub4e4\uc744 \uc0dd\uc131\ud588\ub294\uc9c0\ub97c \uc54c\uace0 \uc788\uc2b5\ub2c8\ub2e4.\nz \ub294 \uadf8\uac83\uc774 \ud30c\uc77c\uc5d0\uc11c \uc77d\uc5b4\uc628 \uac83\uc774 \uc544\ub2c8\uace0 \uacf1\uc148 \uc9c0\uc218\uc2b9 \ub610\ub294 \ub2e4\ub978 \uc5b4\ub5a4 \uac83\uc758\n\uacb0\uacfc\uac00 \uc544\ub2c8\ub77c\ub294 \uac83\uc744 \uc54c\uace0 \uc788\uc2b5\ub2c8\ub2e4. \uadf8\ub9ac\uace0 \ub9cc\uc57d z.grad_fn \ub97c \ub530\ub77c \uac04\ub2e4\uba74\nx \uc640 y \ub97c \ucc3e\uc744 \uac83 \uc785\ub2c8\ub2e4.\n\n\uadf8\ub7ec\ub098 \uadf8\uac83\uc774 \uae30\uc6b8\uae30(gradient)\ub97c \uacc4\uc0b0\ud558\ub294\ub370 \uc5b4\ub5bb\uac8c \ub3c4\uc6c0\uc774 \ub420\uae4c\uc694?\n\n\n"
      ],
      "cell_type": "markdown"
    },
    {
      "metadata": {
        "collapsed": false
      },
      "outputs": [],
      "source": [
        "# z \uc758 \ubaa8\ub4e0 \uc694\uc18c\ub97c \ud569\ud574 \ubd05\uc2dc\ub2e4.\ns = z.sum()\nprint(s)\nprint(s.grad_fn)"
      ],
      "cell_type": "code",
      "execution_count": null
    },
    {
      "metadata": {},
      "source": [
        "\uc774\uc81c x\uc758 \uccab\ubc88\uc9f8 \uad6c\uc131\uc694\uc18c\uc5d0 \ud574\ub2f9\ud558\ub294 \uc774 \ud569\uacc4\uc758 \ub3c4\ud568\uc218\uac00 \ubb34\uc5c7\uc785\ub2c8\uae4c?\n\uc6b0\ub9ac\uac00 \uc6d0\ud558\ub294 \uc218\uc2dd\uc740 \ub2e4\uc74c\uacfc \uac19\uc2b5\ub2c8\ub2e4.\n\n\\begin{align}\\frac{\\partial s}{\\partial x_0}\\end{align}\n\n\n\n\uadf8\ub7fc s \ub294 \ud150\uc11c z \uc758 \ud569\uc73c\ub85c \uc0dd\uc131\ub418\uc5c8\ub2e4\ub294 \uac83\uc744 \uc54c\uace0 \uc788\uc2b5\ub2c8\ub2e4.\nz \ub294 x + y \ud569\uc774 \uc5c8\ub2e4\ub294 \uac83\uc744 \uc54c\uace0 \uc788\uc2b5\ub2c8\ub2e4. \ub530\ub77c\uc11c\n\n\\begin{align}s = \\overbrace{x_0 + y_0}^\\text{$z_0$} + \\overbrace{x_1 + y_1}^\\text{$z_1$} + \\overbrace{x_2 + y_2}^\\text{$z_2$}\\end{align}\n\n\uadf8\ub9ac\uace0 \ub530\ub77c\uc11c s \ub294 \uc6b0\ub9ac\uac00 \uc6d0\ud558\ub294 \ub3c4\ud568\uc218\uac00 1\uc778 \uac83\uc744 \uacb0\uc815\ud558\ub294\ub370 \ucda9\ubd84\ud55c \uc815\ubcf4\ub97c \uac00\uc9c0\uace0 \uc788\uc2b5\ub2c8\ub2e4.\n\n\ubb3c\ub860 \uc774\uac83\uc740 \uadf8 \ub3c4\ud568\uc218\ub97c \uc2e4\uc81c\ub85c \uacc4\uc0b0\ubc95\uc5d0 \ub300\ud55c \ub3c4\uc804\uc5d0 \ub300\ud574 \ud574\uc124\ud558\uace0 \uc788\uc2b5\ub2c8\ub2e4.\n\uc5ec\uae30\uc11c \ud575\uc2ec\uc740 s \uac00 \uadf8\uac83\uc744 \uacc4\uc0b0 \ud560 \uc218 \uc788\ub294 \ucda9\ubd84\ud55c \uc815\ubcf4\ub97c \uac00\uc9c0\uace0 \uc788\ub2e4\ub294 \uac83 \uc785\ub2c8\ub2e4.\n\uc2e4\uc81c\ub85c Pytorch \uac1c\ubc1c\uc790\ub294 \uae30\uc6b8\uae30\ub97c \uacc4\uc0b0\ud558\ub294 \ubc29\ubc95\uc744 \uc54c\uace0 sum() \uacfc + \uc5f0\uc0b0\uc744 \ud504\ub85c\uadf8\ub7a8\ud558\uace0\n\uc5ed\uc804\ud30c \uc54c\uace0\ub9ac\uc998\uc744 \uc2e4\ud589\ud569\ub2c8\ub2e4. \uc774 \uc54c\uace0\ub9ac\uc998\uc5d0 \ub300\ud55c \uc790\uc138\ud55c \uc124\uba85\uc740 \uc774 \ud29c\ud1a0\ub9ac\uc5bc\uc758\n\ubc94\uc704\ub97c \ubc97\uc5b4\ub0a9\ub2c8\ub2e4.\n\n\n"
      ],
      "cell_type": "markdown"
    },
    {
      "metadata": {},
      "source": [
        "Pytorch\uac00 \uae30\uc6b8\uae30\ub97c \uacc4\uc0b0\ud558\uac8c \ud558\uace0, \uc6b0\ub9ac\uac00 \uc633\uc558\ub2e4\ub294 \uac83\uc744 \ud655\uc778\ud558\uc2ed\uc2dc\uc624\n( \ub9cc\uc57d \uc774 \ube14\ub7ed\uc744 \uc5ec\ub7ec\ubc88 \uc2e4\ud589\ud55c\ub2e4\uba74 \uae30\uc6b8\uae30\uac00 \uc99d\uac00\ud560 \uac83\uc785\ub2c8\ub2e4.\n\uadf8\uac83\uc740 Pytorch \uac00 .grad \uc18d\uc131\uc5d0 \uae30\uc6b8\uae30\ub97c \ub204\uc801\ud558\uae30 \ub54c\ubb38\uc774\uace0,\n\uc774\uac83\uc740 \ub9ce\uc740 \ubaa8\ub378\uc5d0\uc11c \ub9e4\uc6b0 \ud3b8\ub9ac\ud569\ub2c8\ub2e4.\n\n\n"
      ],
      "cell_type": "markdown"
    },
    {
      "metadata": {
        "collapsed": false
      },
      "outputs": [],
      "source": [
        "# \uc5b4\ub5a4 \ubcc0\uc218\uc5d0\uc11c .backward() \ud638\ucd9c\uc740 \uadf8\uac83\uc5d0\uc11c \uc2dc\uc791\ud558\ub294 \uc5ed\uc804\ud30c\ub97c \uc2e4\ud589\ud569\ub2c8\ub2e4.\ns.backward()\nprint(x.grad)"
      ],
      "cell_type": "code",
      "execution_count": null
    },
    {
      "metadata": {},
      "source": [
        "\uc544\ub798 \ube14\ub85d\uc5d0\uc11c \uc9c4\ud589\ub418\ub294 \uc791\uc5c5\uc744 \uc774\ud574\ud558\ub294 \uac83\uc740 \ub525\ub7ec\ub2dd\uc758 \uc131\uacf5\uc801\uc778\n\ud504\ub85c\uadf8\ub798\uba38\uac00 \ub418\ub294\ub370 \uc911\uc694\ud569\ub2c8\ub2e4.\n\n\n"
      ],
      "cell_type": "markdown"
    },
    {
      "metadata": {
        "collapsed": false
      },
      "outputs": [],
      "source": [
        "x = torch.randn(2, 2)\ny = torch.randn(2, 2)\n# \uae30\ubcf8\uc801\uc73c\ub85c \uc0ac\uc6a9\uc790\uac00 \uc0dd\uc131\ud55c \ud150\uc11c\ub294 ``requires_grad=False`` \ub85c \uc124\uc815\ub429\ub2c8\ub2e4.\nprint(x.requires_grad, y.requires_grad)\nz = x + y\n# \ub530\ub77c\uc11c z \ub97c \ud1b5\ud558\ub294 \uc5ed\uc804\ud30c\ub97c \uacc4\uc0b0\ud560 \uc218 \uc5c6\uc2b5\ub2c8\ub2e4.\nprint(z.grad_fn)\n\n# ``.requires_grad_( ... )`` \ub294 \uae30\uc874 \ud150\uc11c\uc758 ``requires_grad`` \ud50c\ub798\uadf8\ub97c \ubcc0\uacbd\ud569\ub2c8\ub2e4.\n# \uc785\ub825 \ud50c\ub798\uadf8\ub294 \uc8fc\uc5b4\uc9c0\uc9c0 \uc54a\uc744 \uacbd\uc6b0 \uae30\ubcf8\uc801\uc73c\ub85c ``True`` \uc124\uc815\ub429\ub2c8\ub2e4.\nx = x.requires_grad_()\ny = y.requires_grad_()\n# \uc704\uc5d0\uc11c \ubcf8\ub300\ub85c z \ub294 \uae30\uc6b8\uae30\ub97c \uacc4\uc0b0\ud558\ub294\ub370 \ucda9\ubd84\ud55c \uc815\ubcf4\ub97c \uac00\uc9c0\uace0 \uc788\uc2b5\ub2c8\ub2e4.\nz = x + y\nprint(z.grad_fn)\n# \ub9cc\uc77c \uc5f0\uc0b0\uc758 \uc5b4\ub5a4 \uc785\ub825\uc774 ``requires_grad=True`` \ub97c \uac00\uc9c0\uba74, \uadf8 \ucd9c\ub825\ub3c4 \ub3d9\uc77c\ud569\ub2c8\ub2e4.\nprint(z.requires_grad)\n\n# \uc774\uc81c z\ub294 x\uc640 y\uc640 \uad00\ub828\uc774 \uc788\ub294 \uc5f0\uc0b0 \uc774\ub825\uc744 \uac00\uc9d1\ub2c8\ub2e4.\n# \uadf8\uac83\uc758 \uac12\ub9cc \ucde8\ud574\uc11c \uadf8\uac83\uc758 \uc774\ub825\uc5d0\uc11c **\ubd84\ub9ac** \ud560 \uc218 \uc788\uc744 \uae4c\uc694?\nnew_z = z.detach()\n\n# ... new_z\ub294 x\uc640 y\uc5d0 \uc5ed\uc804\ud30c\ud558\uae30 \uc704\ud55c \uc815\ubcf4\ub97c \uac00\uc9c0\uace0 \uc788\uc2b5\ub2c8\uae4c?\n# \uc544\ub2d9\ub2c8\ub2e4!\nprint(new_z.grad_fn)\n# \uc5b4\ub5bb\uac8c \uadf8\ub7f4 \uc218 \uc788\uc744\uae4c\uc694?  ``z.detach()`` \ub294 ``z`` \uc640 \uac19\uc740 \uc800\uc7a5 \uacf5\uac04\uc744 \uacf5\uc720\ud558\uc9c0\ub9cc\n# \uacc4\uc0b0 \uc774\ub825\uc744 \uc78a\uc5b4\ubc84\ub9b0 \ud150\uc11c\ub97c \ubc18\ud658\ud569\ub2c8\ub2e4. \uadf8\uac83\uc740 \uadf8\uac83\uc774 \uc5b4\ub5bb\uac8c \uacc4\uc0b0\ub418\uc5c8\ub294\uc9c0\n# \uc544\ubb34 \uac83\ub3c4 \ubaa8\ub985\ub2c8\ub2e4.\n# \uae30\ubcf8\uc801\uc73c\ub85c \uc6b0\ub9ac\ub294 \uacfc\uac70\uc758 \uc774\ub825\uc5d0\uc11c Tensor\ub97c \ubd84\ub9ac\ud588\uc2b5\ub2c8\ub2e4."
      ],
      "cell_type": "code",
      "execution_count": null
    },
    {
      "metadata": {},
      "source": [
        "requires_grad=True \ub97c \uac00\uc9c4 \ud150\uc11c\ub97c ``with torch.no_grad():`` \uc73c\ub85c\n\ub458\ub7ec\uc2f8\uc11c \uc774\ub825 \ucd94\uc801\uc758 \uc790\ub3d9\ubbf8\ubd84(autograd)\uc744 \uba48\ucd9c \uc218 \uc788\uc2b5\ub2c8\ub2e4.\n\n"
      ],
      "cell_type": "markdown"
    },
    {
      "metadata": {
        "collapsed": false
      },
      "outputs": [],
      "source": [
        "print(x.requires_grad)\nprint((x ** 2).requires_grad)\n\nwith torch.no_grad():\n\tprint((x ** 2).requires_grad)"
      ],
      "cell_type": "code",
      "execution_count": null
    }
  ],
  "nbformat_minor": 0,
  "nbformat": 4
}