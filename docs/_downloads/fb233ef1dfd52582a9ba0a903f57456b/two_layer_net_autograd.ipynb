{
  "cells": [
    {
      "outputs": [],
      "source": [
        "%matplotlib inline"
      ],
      "cell_type": "code",
      "metadata": {
        "collapsed": false
      },
      "execution_count": null
    },
    {
      "source": [
        "\nPyTorch: Tensor\uc640 autograd\n-----------------------------\n\n\ud558\ub098\uc758 \uc740\ub2c9 \uacc4\uce35(Hidden Layer)\uacfc \ud3b8\ud5a5(Bias)\uc774 \uc5c6\ub294 \uc644\uc804\ud788 \uc5f0\uacb0\ub41c ReLU \uc2e0\uacbd\ub9dd\uc5d0\n\uc720\ud074\ub9ac\ub4dc \uac70\ub9ac(Euclidean Distance)\uc758 \uc81c\uacf1\uc744 \ucd5c\uc18c\ud654\ud558\uc5ec x\ub85c\ubd80\ud130 y\ub97c \uc608\uce21\ud558\ub3c4\ub85d\n\ud559\uc2b5\ud558\uaca0\uc2b5\ub2c8\ub2e4.\n\n\uc774 \uad6c\ud604\uc5d0\uc11c\ub294 PyTorch Tensor \uc5f0\uc0b0\uc744 \uc0ac\uc6a9\ud558\uc5ec \uc21c\uc804\ud30c\ub97c \uacc4\uc0b0\ud558\uace0, PyTorch autograd\ub97c\n\uc0ac\uc6a9\ud558\uc5ec \ubcc0\ud654\ub3c4(Gradient)\ub97c \uacc4\uc0b0\ud558\ub294 \uac83\uc744 \uad6c\ud604\ud558\uaca0\uc2b5\ub2c8\ub2e4.\n\n\nPyTorch Tensor\ub294 \uc5f0\uc0b0 \uadf8\ub798\ud504\uc5d0\uc11c \ub178\ub4dc(Node)\ub85c \ud45c\ud604(represent)\ub429\ub2c8\ub2e4. \ub9cc\uc57d ``x`` \uac00\n``x.requires_grad=True`` \uc778 Tensor\ub77c\uba74 ``x.grad`` \ub294 \uc5b4\ub5a4 \uc2a4\uce7c\ub77c \uac12\uc5d0 \ub300\ud574 ``x`` \uc758\n\ubcc0\ud654\ub3c4(gradient)\ub97c \uac16\ub294 \ub610 \ub2e4\ub978 Tensor\uc785\ub2c8\ub2e4.\n\n"
      ],
      "cell_type": "markdown",
      "metadata": {}
    },
    {
      "outputs": [],
      "source": [
        "import torch\n\ndtype = torch.float\ndevice = torch.device(\"cpu\")\n# dtype = torch.device(\"cuda:0\") # GPU\uc5d0\uc11c \uc2e4\ud589\ud558\ub824\uba74 \uc774 \uc8fc\uc11d\uc744 \uc81c\uac70\ud558\uc138\uc694.\n\n# N\uc740 \ubc30\uce58 \ud06c\uae30\uc774\uba70, D_in\uc740 \uc785\ub825\uc758 \ucc28\uc6d0\uc785\ub2c8\ub2e4;\n# H\ub294 \uc740\ub2c9 \uacc4\uce35\uc758 \ucc28\uc6d0\uc774\uba70, D_out\uc740 \ucd9c\ub825 \ucc28\uc6d0\uc785\ub2c8\ub2e4:\nN, D_in, H, D_out = 64, 1000, 100, 10\n\n# \uc785\ub825\uacfc \ucd9c\ub825\uc744 \uc800\uc7a5(Hold)\ud558\uae30 \uc704\ud574 \ubb34\uc791\uc704 \uac12\uc744 \uac16\ub294 Tensor\ub97c \uc0dd\uc131\ud569\ub2c8\ub2e4.\n# requires_grade=False\ub85c \uc124\uc815\ud558\uc5ec \uc5ed\uc804\ud30c \uc911\uc5d0 \uc774 Tensor\ub4e4\uc5d0 \ub300\ud55c \ubcc0\ud654\ub3c4\ub97c \uacc4\uc0b0\ud560\n# \ud544\uc694\uac00 \uc5c6\uc74c\uc744 \ub098\ud0c0\ub0c5\ub2c8\ub2e4.\nx = torch.randn(N, D_in, device=device, dtype=dtype)\ny = torch.randn(N, D_out, device=device, dtype=dtype)\n\n# \uac00\uc911\uce58\ub97c \uc800\uc7a5\ud558\uae30 \uc704\ud574 \ubb34\uc791\uc704 \uac12\uc744 \uac16\ub294 Tensor\ub97c \uc0dd\uc131\ud569\ub2c8\ub2e4.\n# requires_grad=True\ub85c \uc124\uc815\ud558\uc5ec \uc5ed\uc804\ud30c \uc911\uc5d0 \uc774 Tensor\ub4e4\uc5d0 \ub300\ud55c\n# \ubcc0\ud654\ub3c4\ub97c \uacc4\uc0b0\ud560 \ud544\uc694\uac00 \uc788\uc74c\uc744 \ub098\ud0c0\ub0c5\ub2c8\ub2e4.\nw1 = torch.randn(D_in, H, device=device, dtype=dtype, requires_grad=True)\nw2 = torch.randn(H, D_out, device=device, dtype=dtype, requires_grad=True)\n\nlearning_rate = 1e-6\nfor t in range(500):\n    # \uc21c\uc804\ud30c \ub2e8\uacc4: Tensor \uc5f0\uc0b0\uc744 \uc0ac\uc6a9\ud558\uc5ec y \uac12\uc744 \uc608\uce21\ud569\ub2c8\ub2e4. \uc774\ub294 Tensor\ub97c \uc0ac\uc6a9\ud55c\n    # \uc21c\uc804\ud30c \ub2e8\uacc4\uc640 \uc644\uc804\ud788 \ub3d9\uc77c\ud558\uc9c0\ub9cc, \uc5ed\uc804\ud30c \ub2e8\uacc4\ub97c \ubcc4\ub3c4\ub85c \uad6c\ud604\ud558\uc9c0 \uc54a\uae30 \uc704\ud574 \uc911\uac04\n    # \uac12\ub4e4(Intermediate Value)\uc5d0 \ub300\ud55c \ucc38\uc870(Reference)\ub97c \uac16\uace0 \uc788\uc744 \ud544\uc694\uac00 \uc5c6\uc2b5\ub2c8\ub2e4.\n    y_pred = x.mm(w1).clamp(min=0).mm(w2)\n\n    # Tensor \uc5f0\uc0b0\uc744 \uc0ac\uc6a9\ud558\uc5ec \uc190\uc2e4\uc744 \uacc4\uc0b0\ud558\uace0 \ucd9c\ub825\ud569\ub2c8\ub2e4.\n    # loss\ub294 (1,) \ubaa8\uc591\uc744 \uac16\ub294 Variable\uc774\uba70, loss.data\ub294 (1,) \ubaa8\uc591\uc758 Tensor\uc785\ub2c8\ub2e4;\n    # loss.data[0]\uc740 \uc190\uc2e4(loss)\uc758 \uc2a4\uce7c\ub77c \uac12\uc785\ub2c8\ub2e4.\n    loss = (y_pred - y).pow(2).sum()\n    print(t, loss.item())\n\n    # autograde\ub97c \uc0ac\uc6a9\ud558\uc5ec \uc5ed\uc804\ud30c \ub2e8\uacc4\ub97c \uacc4\uc0b0\ud569\ub2c8\ub2e4. \uc774\ub294 requires_grad=True\ub97c\n    # \uac16\ub294 \ubaa8\ub4e0 Tensor\uc5d0 \ub300\ud55c \uc190\uc2e4\uc758 \ubcc0\ud654\ub3c4\ub97c \uacc4\uc0b0\ud569\ub2c8\ub2e4. \uc774\ud6c4 w1.grad\uc640 w2.grad\ub294\n    # w1\uacfc w2 \uac01\uac01\uc5d0 \ub300\ud55c \uc190\uc2e4\uc758 \ubcc0\ud654\ub3c4\ub97c \uac16\ub294 Tensor\uac00 \ub429\ub2c8\ub2e4.\n    loss.backward()\n\n    # \uacbd\uc0ac\ud558\uac15\ubc95(Gradient Descent)\uc744 \uc0ac\uc6a9\ud558\uc5ec \uac00\uc911\uce58\ub97c \uc218\ub3d9\uc73c\ub85c \uac31\uc2e0\ud569\ub2c8\ub2e4.\n    # \uac00\uc911\uce58\ub4e4\uc774 requires_grad=True \uc774\uae30 \ub54c\ubb38\uc5d0 torch.no_grad() \ub85c \uac10\uc2f8\uc9c0\ub9cc,\n    # autograd \ub0b4\uc5d0\uc11c \uc774\ub97c \ucd94\uc801\ud560 \ud544\uc694\ub294 \uc5c6\uc2b5\ub2c8\ub2e4.\n    # \ub2e4\ub978 \ubc29\ubc95\uc740 weight.data \ubc0f weight.grad.data \ub97c \uc870\uc791(Operate)\ud558\ub294 \ubc29\ubc95\uc785\ub2c8\ub2e4.\n    # tensor.data \uac00 tensor\uc758 \uc800\uc7a5\uacf5\uac04(Storage)\uc744 \uacf5\uc720\ud558\uae30\ub294 \ud558\uc9c0\ub9cc, \uc774\ub825\uc744\n    # \ucd94\uc801\ud558\uc9c0 \uc54a\ub294\ub2e4\ub294 \uac83\uc744 \uae30\uc5b5\ud558\uc2ed\uc2dc\uc624.\n    # \ub610\ud55c, \uc774\uac83\uc744 \ub2ec\uc131\ud558\uae30 \uc704\ud574 torch.optim.SGD \ub97c \uc0ac\uc6a9\ud560 \uc218\ub3c4 \uc788\uc2b5\ub2c8\ub2e4.\n    with torch.no_grad():\n        w1 -= learning_rate * w1.grad\n        w2 -= learning_rate * w2.grad\n\n        # \uac00\uc911\uce58 \uac31\uc2e0 \ud6c4\uc5d0\ub294 \uc218\ub3d9\uc73c\ub85c \ubcc0\ud654\ub3c4\ub97c 0\uc73c\ub85c \ub9cc\ub4ed\ub2c8\ub2e4.\n        w1.grad.zero_()\n        w2.grad.zero_()"
      ],
      "cell_type": "code",
      "metadata": {
        "collapsed": false
      },
      "execution_count": null
    }
  ],
  "nbformat": 4,
  "metadata": {
    "language_info": {
      "nbconvert_exporter": "python",
      "name": "python",
      "pygments_lexer": "ipython3",
      "codemirror_mode": {
        "version": 3,
        "name": "ipython"
      },
      "mimetype": "text/x-python",
      "version": "3.5.0",
      "file_extension": ".py"
    },
    "kernelspec": {
      "name": "python3",
      "language": "python",
      "display_name": "Python 3"
    }
  },
  "nbformat_minor": 0
}