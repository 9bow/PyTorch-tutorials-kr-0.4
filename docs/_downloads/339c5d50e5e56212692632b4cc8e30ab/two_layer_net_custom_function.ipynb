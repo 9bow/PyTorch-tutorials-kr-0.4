{
  "cells": [
    {
      "outputs": [],
      "source": [
        "%matplotlib inline"
      ],
      "cell_type": "code",
      "metadata": {
        "collapsed": false
      },
      "execution_count": null
    },
    {
      "source": [
        "\nPyTorch: \uc0c8 autograd \ud568\uc218 \uc815\uc758\ud558\uae30\n-----------------------------------\n\n\ud558\ub098\uc758 \uc740\ub2c9 \uacc4\uce35(Hidden Layer)\uacfc \ud3b8\ud5a5(Bias)\uc774 \uc5c6\ub294 \uc644\uc804\ud788 \uc5f0\uacb0\ub41c ReLU \uc2e0\uacbd\ub9dd\uc5d0\n\uc720\ud074\ub9ac\ub4dc \uac70\ub9ac(Euclidean Distance)\uc758 \uc81c\uacf1\uc744 \ucd5c\uc18c\ud654\ud558\uc5ec x\ub85c\ubd80\ud130 y\ub97c \uc608\uce21\ud558\ub3c4\ub85d\n\ud559\uc2b5\ud558\uaca0\uc2b5\ub2c8\ub2e4.\n\nPyTorch Variable \uc5f0\uc0b0\uc744 \uc0ac\uc6a9\ud558\uc5ec \uc21c\uc804\ud30c\ub97c \uacc4\uc0b0\ud558\uace0, PyTorch autograd\ub97c \uc0ac\uc6a9\ud558\uc5ec\n\ubcc0\ud654\ub3c4(Gradient)\ub97c \uacc4\uc0b0\ud558\ub294 \uac83\uc744 \uad6c\ud604\ud558\uaca0\uc2b5\ub2c8\ub2e4.\n\n\uc5ec\uae30\uc11c\ub294 \uc0ac\uc6a9\uc790 \uc815\uc758 autograd \ud568\uc218\ub97c \uad6c\ud604\ud558\uc5ec ReLU \uae30\ub2a5(function)\uc744 \uc218\ud589\ud558\ub3c4\ub85d\n\ud558\uaca0\uc2b5\ub2c8\ub2e4.\n\n"
      ],
      "cell_type": "markdown",
      "metadata": {}
    },
    {
      "outputs": [],
      "source": [
        "import torch\n\n\nclass MyReLU(torch.autograd.Function):\n    \"\"\"\n    torch.autograd.Function\uc744 \uc0c1\uc18d\ubc1b\uc544 \uc0ac\uc6a9\uc790 \uc815\uc758 autograd \ud568\uc218\ub97c \uad6c\ud604\ud558\uace0,\n    Tensor \uc5f0\uc0b0\uc744 \ud558\ub294 \uc21c\uc804\ud30c\uc640 \uc5ed\uc804\ud30c \ub2e8\uacc4\ub97c \uad6c\ud604\ud558\uaca0\uc2b5\ub2c8\ub2e4.\n    \"\"\"\n\n    @staticmethod\n    def forward(ctx, input):\n        \"\"\"\n        \uc21c\uc804\ud30c \ub2e8\uacc4\uc5d0\uc11c\ub294 \uc785\ub825\uc744 \uac16\ub294 Tensor\ub97c \ubc1b\uc544 \ucd9c\ub825\uc744 \uac16\ub294 Tensor\ub97c \ubc18\ud658\ud569\ub2c8\ub2e4.\n        ctx\ub294 \uc5ed\uc804\ud30c \uc5f0\uc0b0\uc744 \uc704\ud55c \uc815\ubcf4\ub97c \uc800\uc7a5\ud558\uae30 \uc704\ud574 \uc0ac\uc6a9\ud558\ub294 Context Object\uc785\ub2c8\ub2e4.\n        ctx.save_for_backward method\ub97c \uc0ac\uc6a9\ud558\uc5ec \uc5ed\uc804\ud30c \ub2e8\uacc4\uc5d0\uc11c \uc0ac\uc6a9\ud560 \uc5b4\ub5a0\ud55c\n        \uac1d\uccb4(object)\ub3c4 \uc800\uc7a5(cache)\ud574 \ub458 \uc218 \uc788\uc2b5\ub2c8\ub2e4.\n        \"\"\"\n        ctx.save_for_backward(input)\n        return input.clamp(min=0)\n\n    @staticmethod\n    def backward(ctx, grad_output):\n        \"\"\"\n        \uc5ed\uc804\ud30c \ub2e8\uacc4\uc5d0\uc11c\ub294 \ucd9c\ub825\uc5d0 \ub300\ud55c \uc190\uc2e4\uc758 \ubcc0\ud654\ub3c4\ub97c \uac16\ub294 Tensor\ub97c \ubc1b\uace0, \uc785\ub825\uc5d0\n        \ub300\ud55c \uc190\uc2e4\uc758 \ubcc0\ud654\ub3c4\ub97c \uacc4\uc0b0\ud569\ub2c8\ub2e4.\n        \"\"\"\n        input, = ctx.saved_tensors\n        grad_input = grad_output.clone()\n        grad_input[input < 0] = 0\n        return grad_input\n\n\ndtype = torch.float\ndevice = torch.device(\"cpu\")\n# dtype = torch.device(\"cuda:0\") # GPU\uc5d0\uc11c \uc2e4\ud589\ud558\ub824\uba74 \uc774 \uc8fc\uc11d\uc744 \uc81c\uac70\ud558\uc138\uc694.\n\n# N\uc740 \ubc30\uce58 \ud06c\uae30\uc774\uba70, D_in\uc740 \uc785\ub825\uc758 \ucc28\uc6d0\uc785\ub2c8\ub2e4;\n# H\ub294 \uc740\ub2c9 \uacc4\uce35\uc758 \ucc28\uc6d0\uc774\uba70, D_out\uc740 \ucd9c\ub825 \ucc28\uc6d0\uc785\ub2c8\ub2e4.\nN, D_in, H, D_out = 64, 1000, 100, 10\n\n# \uc785\ub825\uacfc \ucd9c\ub825\uc744 \uc800\uc7a5(Hold)\ud558\uae30 \uc704\ud574 \ubb34\uc791\uc704 \uac12\uc744 \uac16\ub294 Tensor\ub97c \uc0dd\uc131\ud569\ub2c8\ub2e4.\nx = torch.randn(N, D_in, device=device, dtype=dtype)\ny = torch.randn(N, D_out, device=device, dtype=dtype)\n\n# \uac00\uc911\uce58\ub97c \uc800\uc7a5\ud558\uae30 \uc704\ud574 \ubb34\uc791\uc704 \uac12\uc744 \uac16\ub294 Tensor\ub97c \uc0dd\uc131\ud569\ub2c8\ub2e4.\nw1 = torch.randn(D_in, H, device=device, dtype=dtype, requires_grad=True)\nw2 = torch.randn(H, D_out, device=device, dtype=dtype, requires_grad=True)\n\nlearning_rate = 1e-6\nfor t in range(500):\n    # \uc0ac\uc6a9\uc790 \uc815\uc758 \ud568\uc218\ub97c \uc801\uc6a9\ud558\uae30 \uc704\ud574 Function.apply method\ub97c \uc0ac\uc6a9\ud569\ub2c8\ub2e4.\n    # \uc774\ub97c 'relu'\ub77c\uace0 \uc774\ub984(alias) \ubd99\uc600\uc2b5\ub2c8\ub2e4.\n    relu = MyReLU.apply\n\n    # \uc21c\uc804\ud30c \ub2e8\uacc4: Tensor \uc5f0\uc0b0\uc744 \uc0ac\uc6a9\ud558\uc5ec y \uac12\uc744 \uc608\uce21\ud569\ub2c8\ub2e4;\n    # \uc0ac\uc6a9\uc790 \uc815\uc758 autograd \uc5f0\uc0b0\uc744 \uc0ac\uc6a9\ud558\uc5ec ReLU\ub97c \uacc4\uc0b0\ud569\ub2c8\ub2e4.\n    y_pred = relu(x.mm(w1)).mm(w2)\n\n    # \uc190\uc2e4(loss)\uc744 \uacc4\uc0b0\ud558\uace0 \ucd9c\ub825\ud569\ub2c8\ub2e4.\n    loss = (y_pred - y).pow(2).sum()\n    print(t, loss.item())\n\n    # autograde\ub97c \uc0ac\uc6a9\ud558\uc5ec \uc5ed\uc804\ud30c \ub2e8\uacc4\ub97c \uacc4\uc0b0\ud569\ub2c8\ub2e4.\n    loss.backward()\n\n    # \uacbd\uc0ac\ud558\uac15\ubc95(Gradient Descent)\uc744 \uc0ac\uc6a9\ud558\uc5ec \uac00\uc911\uce58\ub97c \uac31\uc2e0\ud569\ub2c8\ub2e4.\n    with torch.no_grad():\n        w1 -= learning_rate * w1.grad\n        w2 -= learning_rate * w2.grad\n\n        # \uac00\uc911\uce58 \uac31\uc2e0 \ud6c4\uc5d0\ub294 \uc218\ub3d9\uc73c\ub85c \ubcc0\ud654\ub3c4\ub97c 0\uc73c\ub85c \ub9cc\ub4ed\ub2c8\ub2e4.\n        w1.grad.zero_()\n        w2.grad.zero_()"
      ],
      "cell_type": "code",
      "metadata": {
        "collapsed": false
      },
      "execution_count": null
    }
  ],
  "nbformat": 4,
  "metadata": {
    "language_info": {
      "nbconvert_exporter": "python",
      "name": "python",
      "pygments_lexer": "ipython3",
      "codemirror_mode": {
        "version": 3,
        "name": "ipython"
      },
      "mimetype": "text/x-python",
      "version": "3.5.0",
      "file_extension": ".py"
    },
    "kernelspec": {
      "name": "python3",
      "language": "python",
      "display_name": "Python 3"
    }
  },
  "nbformat_minor": 0
}